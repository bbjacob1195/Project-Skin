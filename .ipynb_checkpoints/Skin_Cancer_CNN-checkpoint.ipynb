{
 "cells": [
  {
   "cell_type": "code",
   "execution_count": 11,
   "metadata": {},
   "outputs": [],
   "source": [
    "#import pandas\n",
    "#import os  \n",
    "import tensorflow as tf\n"
   ]
  },
  {
   "cell_type": "code",
   "execution_count": 5,
   "metadata": {},
   "outputs": [],
   "source": [
    "def setupdata_for_ml():\n",
    "    df = pandas.read_csv('HAM10000_metadata.csv')\n",
    "    classes_list = df.dx.unique()\n",
    "    for i in range(len(classes_list)):\n",
    "        dx_class = df[df.dx==classes_list[i]]\n",
    "        file_names = dx_class.image_id + '.jpg'\n",
    "        dir_name = \"dir_\" + classes_list[i]\n",
    "        for file in file_names:\n",
    "#             exists = os.path.isfile('HAM10000_images_part_1/' + file)\n",
    "#             if exists:\n",
    "#                 os.rename(\"HAM10000_images_part_1/\" + file, dir_name + \"/\" + file)\n",
    "#             else:\n",
    "#                 continue\n",
    "            exists2 = os.path.isfile('HAM10000_images_part_2/' + file)\n",
    "            if exists2:\n",
    "                os.rename(\"HAM10000_images_part_2/\" + file, dir_name + \"/\" + file)\n",
    "            else:\n",
    "                continue\n",
    "    return\n",
    "\n",
    "setupdata_for_ml()      "
   ]
  },
  {
   "cell_type": "code",
   "execution_count": 12,
   "metadata": {},
   "outputs": [
    {
     "name": "stdout",
     "output_type": "stream",
     "text": [
      "Traceback (most recent call last):\r\n",
      "  File \"retrain.py\", line 132, in <module>\r\n",
      "    import tensorflow as tf\r\n",
      "ModuleNotFoundError: No module named 'tensorflow'\r\n"
     ]
    }
   ],
   "source": [
    "! python3 retrain.py --image_dir /train/ -- output_labels /graph1/output_labels.txt --output_graph /graph1/output_graph.pb --summaries_dir /graph1/retrain_logs --bottleneck_dir /graph1/bottleneck \n",
    "\n",
    "\n"
   ]
  },
  {
   "cell_type": "code",
   "execution_count": 4,
   "metadata": {},
   "outputs": [
    {
     "name": "stdout",
     "output_type": "stream",
     "text": [
      "2018-12-05 18:13:15.554652: I tensorflow/core/platform/cpu_feature_guard.cc:141] Your CPU supports instructions that this TensorFlow binary was not compiled to use: AVX2 FMA\n",
      "dir bcc 0.6207993\n",
      "dir mel 0.2016009\n",
      "dir bkl 0.07718567\n",
      "dir akiec 0.06889278\n",
      "dir nv 0.023162663\n"
     ]
    }
   ],
   "source": [
    "#! curl -LO https://github.com/tensorflow/tensorflow/raw/master/tensorflow/examples/label_image/label_image.py\n",
    "! python3 label_image.py \\\n",
    "--graph=/tmp/output_graph.pb --labels=/tmp/output_labels.txt \\\n",
    "--input_layer=Placeholder \\\n",
    "--output_layer=final_result \\\n",
    "--image=/Users/dylancordaro/Desktop/UChicago\\ stuff/Vision/skin-cancer-mnist-ham10000/train/dir_bcc/ISIC_0024331.jpg "
   ]
  },
  {
   "cell_type": "code",
   "execution_count": null,
   "metadata": {},
   "outputs": [],
   "source": [
    "#! tensorboard --logdir /tmp/retrain_logs\n"
   ]
  },
  {
   "cell_type": "code",
   "execution_count": null,
   "metadata": {},
   "outputs": [],
   "source": []
  },
  {
   "cell_type": "code",
   "execution_count": null,
   "metadata": {},
   "outputs": [],
   "source": []
  },
  {
   "cell_type": "code",
   "execution_count": null,
   "metadata": {},
   "outputs": [],
   "source": []
  },
  {
   "cell_type": "code",
   "execution_count": null,
   "metadata": {},
   "outputs": [],
   "source": []
  }
 ],
 "metadata": {
  "kernelspec": {
   "display_name": "Python (tensorflow_env)",
   "language": "python",
   "name": "tensorflow_env"
  },
  "language_info": {
   "codemirror_mode": {
    "name": "ipython",
    "version": 3
   },
   "file_extension": ".py",
   "mimetype": "text/x-python",
   "name": "python",
   "nbconvert_exporter": "python",
   "pygments_lexer": "ipython3",
   "version": "3.6.6"
  }
 },
 "nbformat": 4,
 "nbformat_minor": 2
}
